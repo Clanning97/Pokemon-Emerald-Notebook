{
 "cells": [
  {
   "cell_type": "code",
   "execution_count": 1,
   "metadata": {},
   "outputs": [],
   "source": [
    "import random"
   ]
  },
  {
   "cell_type": "code",
   "execution_count": 2,
   "metadata": {},
   "outputs": [],
   "source": [
    "file = open('Pokemon Emerald.sav', 'rb+')\n",
    "ram = bytearray(file.read())"
   ]
  },
  {
   "cell_type": "code",
   "execution_count": 3,
   "metadata": {},
   "outputs": [
    {
     "output_type": "stream",
     "name": "stdout",
     "text": "Game B is the most recent: 1\n"
    }
   ],
   "source": [
    "# Get the most recent game\n",
    "\n",
    "def getStartingPoint(ram):\n",
    "    game_a_index = int.from_bytes(ram[0xFFC:0x1000], byteorder='little')\n",
    "    game_b_index = int.from_bytes(ram[0xEFFC:0xF000], byteorder='little')\n",
    "\n",
    "    if (game_a_index > game_b_index and game_a_index != 0xFFFFFFFF):\n",
    "        print(f'Game A is the most recent: {game_a_index}')\n",
    "        return 0x0\n",
    "    else:\n",
    "        print(f'Game B is the most recent: {game_b_index}')\n",
    "        return 0xE000\n",
    "\n",
    "startingPoint = getStartingPoint(ram)"
   ]
  },
  {
   "cell_type": "code",
   "execution_count": 4,
   "metadata": {},
   "outputs": [],
   "source": [
    "# Sort the partitions for better writing. Don't have to stich sections 5-13\n",
    "\n",
    "def partition(ram, low, high, starting_point):\n",
    "    start = starting_point + (0x1000 * ((low + high) // 2)) + 0xFF4\n",
    "    end = starting_point + (0x1000 * ((low + high) // 2)) + 0xFF6\n",
    "    pivot = int.from_bytes(ram[start:end], byteorder='little')\n",
    "    i = low - 1\n",
    "    j = high + 1\n",
    "    while True:\n",
    "        i += 1\n",
    "        while int.from_bytes(ram[starting_point + (0x1000 * i) + 0xFF4:starting_point + (0x1000 * i) + 0xFF6], byteorder='little') < pivot:\n",
    "            i += 1\n",
    "        j -= 1\n",
    "        while int.from_bytes(ram[starting_point + (0x1000 * j) + 0xFF4:starting_point + (0x1000 * j) + 0xFF6], byteorder='little') > pivot:\n",
    "            j -= 1\n",
    "        if i >= j:\n",
    "            return j\n",
    "        ram[starting_point + (0x1000 * i):starting_point + (0x1000 * (i + 1))], ram[starting_point + (0x1000 * j):starting_point + (0x1000 * (j + 1))] = ram[starting_point + (0x1000 * j):starting_point + (0x1000 * (j + 1))], ram[starting_point + (0x1000 * i):starting_point + (0x1000 * (i + 1))]\n",
    "\n",
    "\n",
    "\n",
    "def quickSort(ram, starting_point):\n",
    "    def _quickSort(ram, low, high, starting_point):\n",
    "        if low < high:\n",
    "            split_index = partition(ram, low, high, starting_point)\n",
    "            _quickSort(ram, low, split_index, starting_point)\n",
    "            _quickSort(ram, split_index + 1, high, startingPoint)\n",
    "    _quickSort(ram, 0, 13, starting_point)\n",
    "\n",
    "quickSort(ram, startingPoint)"
   ]
  },
  {
   "cell_type": "code",
   "execution_count": 6,
   "metadata": {},
   "outputs": [],
   "source": [
    "# Max out player money\n",
    "\n",
    "def maxOutMoney(ram, starting_point):\n",
    "    security_key = int.from_bytes(ram[starting_point + 0xAC:starting_point + 0xB0], byteorder='little')\n",
    "    ram[starting_point + 0x1490:starting_point + 0x1494] = (0xFFFFFFFF ^ security_key).to_bytes(4, byteorder='little')\n",
    "\n",
    "maxOutMoney(ram, startingPoint)"
   ]
  },
  {
   "cell_type": "code",
   "execution_count": 7,
   "metadata": {},
   "outputs": [],
   "source": [
    "# Give pokeballs\n",
    "\n",
    "def givePokeballs(ram, starting_point):\n",
    "    pokeballs = [0x1, 0x2, 0x3, 0x4, 0x5, 0x6, 0x7, 0x8, 0x9, 0xA, 0xB, 0xC]\n",
    "    pokeball_ram = bytearray(64)\n",
    "    i = 0\n",
    "    for pokeball in pokeballs:\n",
    "        pokeball_ram[i:i + 2] = pokeball.to_bytes(2, byteorder='little')\n",
    "        pokeball_ram[i + 2:i + 4] = 0x63.to_bytes(2, byteorder='little')\n",
    "        i += 4\n",
    "    ram[starting_point + 0x1650:starting_point + 0x1690] = pokeball_ram\n",
    "\n",
    "givePokeballs(ram, startingPoint)"
   ]
  },
  {
   "cell_type": "code",
   "execution_count": 8,
   "metadata": {},
   "outputs": [],
   "source": [
    "# Give items\n",
    "\n",
    "def giveItems(ram, starting_point):\n",
    "    items = [0x13, 0x19, 0x25, 0x44, 0x54, 0x55, 0xB6]\n",
    "    item_ram = bytearray(120)\n",
    "    i = 0\n",
    "    for item in items:\n",
    "        item_ram[i:i + 2] = item.to_bytes(2, byteorder='little')\n",
    "        item_ram[i + 2:i + 4] = 0x63.to_bytes(2, byteorder='little')\n",
    "        i += 4\n",
    "    ram[starting_point + 0x1560:starting_point + 0x15D8] = item_ram\n",
    "\n",
    "giveItems(ram, startingPoint)"
   ]
  },
  {
   "cell_type": "code",
   "execution_count": 11,
   "metadata": {},
   "outputs": [],
   "source": [
    "# Write checksums\n",
    "\n",
    "def writeChecksums(ram, starting_point):\n",
    "    section_sizes = [0xF2C, 0xF80, 0xF80, 0xF80, 0xF08, 0xF80, 0xF80, 0xF80, 0xF80, 0xF80, 0xF80, 0xF80, 0xF80, 0x7D0]\n",
    "    for i in range(14):\n",
    "        section_size = section_sizes[i]\n",
    "        checksum = 0\n",
    "        j = 0\n",
    "        while j < section_size:\n",
    "            bytes_start = starting_point + (0x1000 * i) + j\n",
    "            bytes_end = starting_point + (0x1000 * i) + j + 4\n",
    "            checksum += int.from_bytes(ram[bytes_start:bytes_end], byteorder='little')\n",
    "            j += 4\n",
    "        checksum = ((checksum & 0xFFFFFFFF) + ((checksum & 0xFFFFFFFF) >> 16)) & 0xFFFF\n",
    "        checksum_start = starting_point + (0x1000 * i) + 0xFF6\n",
    "        checksum_end = starting_point + (0x1000 * i) + 0xFF8\n",
    "        ram[checksum_start:checksum_end] = checksum.to_bytes(2, byteorder='little')\n",
    "\n",
    "writeChecksums(ram, startingPoint)"
   ]
  },
  {
   "cell_type": "code",
   "execution_count": 12,
   "metadata": {},
   "outputs": [
    {
     "output_type": "execute_result",
     "data": {
      "text/plain": "131072"
     },
     "metadata": {},
     "execution_count": 12
    }
   ],
   "source": [
    "file.seek(0)\n",
    "file.write(ram)"
   ]
  }
 ],
 "metadata": {
  "language_info": {
   "codemirror_mode": {
    "name": "ipython",
    "version": 3
   },
   "file_extension": ".py",
   "mimetype": "text/x-python",
   "name": "python",
   "nbconvert_exporter": "python",
   "pygments_lexer": "ipython3",
   "version": "3.7.6-final"
  },
  "orig_nbformat": 2,
  "kernelspec": {
   "name": "python3",
   "display_name": "Python 3"
  }
 },
 "nbformat": 4,
 "nbformat_minor": 2
}